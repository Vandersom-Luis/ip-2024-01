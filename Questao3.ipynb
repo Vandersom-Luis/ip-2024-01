{
  "nbformat": 4,
  "nbformat_minor": 0,
  "metadata": {
    "colab": {
      "provenance": [],
      "authorship_tag": "ABX9TyPagzHphqSsCp1fXXHNrNle"
    },
    "kernelspec": {
      "name": "python3",
      "display_name": "Python 3"
    },
    "language_info": {
      "name": "python"
    }
  },
  "cells": [
    {
      "cell_type": "code",
      "execution_count": null,
      "metadata": {
        "id": "cPpCXqSy2VVe"
      },
      "outputs": [],
      "source": [
        "// Questão 3\n",
        "\n",
        "package main\n",
        "import \"fmt\"\n",
        "\n",
        "func main() {\n",
        "    var n1, n2, n3, nconcatenado int\n",
        "\n",
        "    fmt.Scanf(\"%d\", &n1)\n",
        "    fmt.Scanf(\"%d\", &n2)\n",
        "    fmt.Scanf(\"%d\", &n3)\n",
        "\n",
        "    if (n1 / 10 >= 1 || n2 / 10 >= 1 || n3 / 10 >= 1){\n",
        "        fmt.Printf(\"DIGITO INVALIDO\")\n",
        "    } else {\n",
        "    nconcatenado = n1 * 100 + n2 * 10 + n3\n",
        "    fmt.Printf(\"%d, %d\", nconcatenado, nconcatenado * nconcatenado)\n",
        "    }\n",
        "}"
      ]
    }
  ]
}