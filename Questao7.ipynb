{
  "nbformat": 4,
  "nbformat_minor": 0,
  "metadata": {
    "colab": {
      "provenance": [],
      "authorship_tag": "ABX9TyOu0F4zU0fKJH867YdaYl0k"
    },
    "kernelspec": {
      "name": "python3",
      "display_name": "Python 3"
    },
    "language_info": {
      "name": "python"
    }
  },
  "cells": [
    {
      "cell_type": "code",
      "execution_count": null,
      "metadata": {
        "id": "cPpCXqSy2VVe"
      },
      "outputs": [],
      "source": [
        "// Questão 7\n",
        "\n",
        "package main\n",
        "import \"fmt\"\n",
        "\n",
        "func main() {\n",
        "  var farenheit, pChuva, celsius, mmChuva float64\n",
        "\n",
        "  fmt.Scanf(\"%f\\n%f\", &farenheit, &pChuva)\n",
        "\n",
        "  celsius = (5 * (farenheit - 32)) / 9\n",
        "  mmChuva = pChuva * 25.4\n",
        "\n",
        "  fmt.Printf(\"O VALOR EM CELSIUS E = %f\\nA QUANTIDADE DE CHUVA É = %f\", celsius, mmChuva)\n",
        "}"
      ]
    }
  ]
}