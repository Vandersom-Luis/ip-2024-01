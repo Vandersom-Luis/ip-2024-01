{
  "nbformat": 4,
  "nbformat_minor": 0,
  "metadata": {
    "colab": {
      "provenance": [],
      "authorship_tag": "ABX9TyMQJw2hyPYyCp/lLg+rgWbJ"
    },
    "kernelspec": {
      "name": "python3",
      "display_name": "Python 3"
    },
    "language_info": {
      "name": "python"
    }
  },
  "cells": [
    {
      "cell_type": "code",
      "execution_count": null,
      "metadata": {
        "id": "cPpCXqSy2VVe"
      },
      "outputs": [],
      "source": [
        "// Questão 4\n",
        "\n",
        "package main\n",
        "import \"fmt\"\n",
        "\n",
        "func main() {\n",
        "    var salarioMinimo, consumo float64\n",
        "    fmt.Scanf(\"%f\\n%f\", &salarioMinimo, &consumo)\n",
        "    var custo_por_kw float64 = 0.7 * salarioMinimo / 100\n",
        "    var custo_do_consumo float64 = custo_por_kw * consumo\n",
        "    var custo_com_desconto float64 = 0.9 * custo_do_consumo\n",
        "\n",
        "\n",
        "    fmt.Printf(\"Custo por kW: R$ %f\\nCusto do consumo: R$ %f\\nCusto com desconto: R$ %f\", custo_por_kw, custo_do_consumo, custo_com_desconto)\n",
        "}"
      ]
    }
  ]
}