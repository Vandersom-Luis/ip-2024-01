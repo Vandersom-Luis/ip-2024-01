{
  "nbformat": 4,
  "nbformat_minor": 0,
  "metadata": {
    "colab": {
      "provenance": [],
      "authorship_tag": "ABX9TyNz9s0rIbQ3dRBK/LsKpJEz"
    },
    "kernelspec": {
      "name": "python3",
      "display_name": "Python 3"
    },
    "language_info": {
      "name": "python"
    }
  },
  "cells": [
    {
      "cell_type": "code",
      "execution_count": null,
      "metadata": {
        "id": "cPpCXqSy2VVe"
      },
      "outputs": [],
      "source": [
        "// Questão 1\n",
        "\n",
        "package main\n",
        "\n",
        "import \"fmt\"\n",
        "\n",
        "func main() {\n",
        "\tvar nota1, nota2, nota3, media float64\n",
        "\n",
        "\tfmt.Println(\"Digite três valores\")\n",
        "\tfmt.Scanf(\"%f\", &nota1)\n",
        "\tfmt.Scanf(\"%f\", &nota2)\n",
        "\tfmt.Scanf(\"%f\", &nota3)\n",
        "\n",
        "\tmedia = (nota1 + nota2 + nota3) / 3\n",
        "\tfmt.Println(\"MEDIA =\", media)\n",
        "\n",
        "\tif media >= 6 {\n",
        "\t    fmt.Println(\"APROVADO\")\n",
        "\t} else {\n",
        "\t    fmt.Println(\"REPROVADO\")\n",
        "\t}\n",
        "}"
      ]
    }
  ]
}