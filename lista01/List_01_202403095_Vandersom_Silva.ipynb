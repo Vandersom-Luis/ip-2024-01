Questão 1

Leia (nota1, nota2, nota3)

x <- (nota1 + nota2 + nota3)/3

se x >= 6 Imprime ("MEDIA =" x) Imprime ("APROVADO")

se x < 6 Imprime ("MEDIA =" x) Imprime ("REPROVADO")

Questão 2

Leia (nCasos) nAtual = 1

Enquanto nAtual ≠ nCasos + 1{ Leia (nPessoas, pPopular, pGeral, pArquibancada, pCadeiras) nPopular = nPessoas . pPopular / 100 nGeral = nPessoas . pGeral / 100 nArquibancada = nPessoas . pArquibancada / 100 nCadeiras = nPessoas . pCadeiras / 100

renda(nAtual) = nPopular . 1 + nGeral . 5 + nArquibancada . 10 + nCadeiras . 20 Imprime ("A RENDA DO JOGO N." nAtual " É" =" renda(nAtual)) nAtual = nAtual + 1 }

Questão 3

Leia (numero1, numero2, numero3) nconcatenado = (numero1 E numero2 E numero3)

se numero1 ou numero2 ou numero3 > 9 Imprime ("DIGITO INVALIDO")

senao Imprime (nconcatenado ", " nconcatenado * nconcatenado)

Questão 4

Leia (salario_minimo, consumo)

custo_por_kw = 0,7 * salario_minimo / 100 custo_do_consumo = custo_por_kw * consumo custo_com_desconto = 0,9 * custo_do_consumo

Imprime (custo_por_kw) Imprime (custo_do_consumo) Imprime (custo_com_desconto)

Questão 5

Leia (conta, consumo, tipo)

se tipo == R valor = 5 + 0,05 . consumo

se tipo == C valor = 500 + (0,25 . (consumo - 80))

se tipo == I valor = 800 + (0,04 . (consumo - 100))

Imprime ("CONTA =" conta) Imprime ("VALOR DA CONTA =" valor)

Questão 6

Leia (nEntradas)

Enquanto nEntradas > 0 Leia (farenheit)

celsius = (5 . (farenheit - 32)) / 9

Imprime (farenheit " FARENHEIT EQUIVALE A " celsius " CELSIUS")

Questão 7

Leia (farenheit, pChuva)

celsius = (5 . (farenheit - 32)) / 9 mmChuva = pChuva . 25.4

Imprime("O VALOR EM CELSIUS É:" celsius) Imprime("A QUANTIDADE DE CHUVA É:" mmChuva)

Questão 8

Leia (raio, altura)

pi = 3.14159 aLateral = 2 . pi . raio. altura aCirculo = pi . raio . raio aTotal = 2 . aCirculo + aLateral custo = 100 . aTotal

Imprime ("O VALOR DO CUSTO É = " custo)

Questão 9

Leia (A, B, C) delta = B . B - 4 . A . C

Imprime ("O VALOR DE DELTA É = " delta)

Questão 10

Leia (a, b, c, d)

determinante = (a . d) - (b . c)

Imprime ("O VALOR DO DETERMINANTE É =" determinante)

Questão 11

Leia (numero) arredondar para baixo (resultado) = numero / 3 arredondar para baixo (resultado2) = numero / 5

se numero - (resultado . 3) = 0 ou numero - (resultado2 . 5) = 0 Imprime ("O NÚMERO É DIVISÍVEL")

senão Imprime ("O NÚMERO NÃO É DIVISÍVEL")

Questão 12

Leia (horas)

arredondar para baixo (divisao) = horas / 3 preco1 = divisao . 10 preco2 = (horas - (divisao . 3)) . 5 precoTotal = preco1 + preco2

Imprime ("O valor a pagar é: " precoTotal)

Questão 13

Leia (nota)

se nota < 6 conceito = "D"

se nota >= 6 e nota < 7,5 conceito = "C"

se nota >= 7,5 e nota < 9 conceito = "B"

se nota >= 9 conceito = "A"

Imprime ("NOTA = " nota "CONCEITO = " conceito)

Questão 14

Leia (altura, arestaBase)

areaBase = 3 . arestaBase . arestaBase . √3 / 2 volume = areaBase . altura / 3

Imprime ("O VOLUME DA PIRÂMIDE É = " volume " METROS CÚBICOS")

Questão 15

Leia (n)

se n > 5 e n < 2000 para (i = 1; i <= n; i + 1) se i % 2 = 0 Imprime (i "^2 = " i^2)

senão Imprime ("Número Inválido")

Questão 16

Leia (salario)

se salario <= 300 reajuste = 0.5

se salario > 300 reajuste = 0.3

salarioNovo = salario + (salario . reajuste)

Imprime ("Salário com reajuste = " salarioNovo)

Questão 17

Leia (x, y)

se x % 2 = 0 para (i = 0; i <= y, i + 1) imprime (x + (i . 2))

senão imprime ("O PRIMEIRO NÚMERO NÃO É PAR")

Questão 18

Leia (a, r, n)

para (i = 0, i < n, i + 1) somaTotal = somaTotal + (a + r . i)

Imprime somaTotal

Questão 19

Leia (n)

se n > 1 e n é inteiro para (i = 1, i <= n, i + 1 ) somaTotal = somaTotal + 1/i

Imprime (somaTotal)

senão

Imprime ("Número Inválido")

Questão 20

Leia (horas, minutos, segundos)

totalSegundos = (horas . 3600) + (minutos . 60) + segundos

Imprime ("O TEMPO EM SEGUNDOS É = " totalSegundos)
