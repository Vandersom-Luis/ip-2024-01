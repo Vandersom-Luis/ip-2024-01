{
  "nbformat": 4,
  "nbformat_minor": 0,
  "metadata": {
    "colab": {
      "provenance": [],
      "authorship_tag": "ABX9TyN6c4sQwhhjj0XtkBXjwMoj"
    },
    "kernelspec": {
      "name": "python3",
      "display_name": "Python 3"
    },
    "language_info": {
      "name": "python"
    }
  },
  "cells": [
    {
      "cell_type": "code",
      "execution_count": null,
      "metadata": {
        "id": "cPpCXqSy2VVe"
      },
      "outputs": [],
      "source": [
        "// Questão 6\n",
        "\n",
        "package main\n",
        "import \"fmt\"\n",
        "\n",
        "func main() {\n",
        "    var nEntradas int\n",
        "    var farenheit, celsius float64\n",
        "    fmt.Scanf(\"%d\", &nEntradas)\n",
        "\n",
        "    for (nEntradas > 0) {\n",
        "        fmt.Scanf(\"%f\", &farenheit)\n",
        "        celsius = (5 * (farenheit - 32)) / 9\n",
        "        fmt.Printf(\"%f FAHRENHEIT EQUIVALE A %f CELSIUS\\n\", farenheit, celsius)\n",
        "    }\n",
        "}"
      ]
    }
  ]
}